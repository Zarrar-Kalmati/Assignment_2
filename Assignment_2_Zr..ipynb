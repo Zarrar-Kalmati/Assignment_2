{
 "cells": [
  {
   "cell_type": "markdown",
   "id": "208327a3-fbc6-4832-8152-b2a9be80b549",
   "metadata": {},
   "source": [
    "### Area of Triangle"
   ]
  },
  {
   "cell_type": "code",
   "execution_count": 1,
   "id": "483ff25c-4eba-4259-a6b6-8d00d9e05799",
   "metadata": {},
   "outputs": [
    {
     "name": "stdin",
     "output_type": "stream",
     "text": [
      "Enter Width: 25\n",
      "Enter Length: 45\n"
     ]
    },
    {
     "name": "stdout",
     "output_type": "stream",
     "text": [
      "Area is : 1125.0\n"
     ]
    }
   ],
   "source": [
    "#Program 01\n",
    "#Area Of A Triangle\n",
    "#making a variable for width and lenght\n",
    "width=float(input(\"Enter Width:\"))\n",
    "length=float(input(\"Enter Length:\"))\n",
    "Area=width*length\n",
    "print(\"Area is :\",Area)"
   ]
  },
  {
   "cell_type": "markdown",
   "id": "26dd6d57-cd9b-4562-854b-4d2e2a1d2285",
   "metadata": {},
   "source": [
    "### Circumfarence"
   ]
  },
  {
   "cell_type": "code",
   "execution_count": 2,
   "id": "e7ea398d-ba50-4479-aadb-c3aabeb95b35",
   "metadata": {},
   "outputs": [
    {
     "name": "stdin",
     "output_type": "stream",
     "text": [
      "Enter the value of r: 10\n"
     ]
    },
    {
     "name": "stdout",
     "output_type": "stream",
     "text": [
      "Circumference is = 62.82\n"
     ]
    }
   ],
   "source": [
    "     #Program 2\n",
    "pie=3.141\n",
    "r=float(input(\"Enter the value of r:\"))\n",
    "print(\"Circumference is =\",2*pie*r)"
   ]
  },
  {
   "cell_type": "markdown",
   "id": "7634aa49-6851-409e-9f09-a02e2eae8a85",
   "metadata": {},
   "source": [
    "### Simple Interest"
   ]
  },
  {
   "cell_type": "code",
   "execution_count": 4,
   "id": "000750f9-975d-430c-a7fd-7f368bd704bb",
   "metadata": {},
   "outputs": [
    {
     "name": "stdin",
     "output_type": "stream",
     "text": [
      "Enter the Principle: 255\n",
      "Enter the rate: 25\n",
      "Enter the Time: 25\n"
     ]
    },
    {
     "name": "stdout",
     "output_type": "stream",
     "text": [
      "Simple Interest = 159375.0\n"
     ]
    }
   ],
   "source": [
    "    #program 3\n",
    "prin=float(input(\"Enter the Principle:\"))\n",
    "rate=float(input(\"Enter the rate:\"))\n",
    "time=float(input(\"Enter the Time:\"))\n",
    "si=prin*rate*time\n",
    "print(\"Simple Interest =\",si)"
   ]
  },
  {
   "cell_type": "markdown",
   "id": "7cdeea7e-3465-4893-be81-9b884cea4fe2",
   "metadata": {},
   "source": [
    "### Speed"
   ]
  },
  {
   "cell_type": "code",
   "execution_count": 5,
   "id": "b3cb0729-70c0-4d01-9af1-0680bf9ccbe4",
   "metadata": {},
   "outputs": [
    {
     "name": "stdin",
     "output_type": "stream",
     "text": [
      "Enter the Distance: 25\n",
      "Enter the Time: 30\n"
     ]
    },
    {
     "name": "stdout",
     "output_type": "stream",
     "text": [
      "The Speed is= 0.8333333333333334\n"
     ]
    }
   ],
   "source": [
    "    #program 4\n",
    "dis=float(input(\"Enter the Distance:\"))\n",
    "time=float(input(\"Enter the Time:\"))\n",
    "speed=dis/time\n",
    "print(\"The Speed is=\",speed)"
   ]
  },
  {
   "cell_type": "markdown",
   "id": "72734913-2faf-4d5a-acff-906ddf6d3c67",
   "metadata": {},
   "source": [
    "### Bmi"
   ]
  },
  {
   "cell_type": "code",
   "execution_count": 6,
   "id": "dc87d910-5510-4d7f-b7de-eccf76ee124d",
   "metadata": {},
   "outputs": [
    {
     "name": "stdin",
     "output_type": "stream",
     "text": [
      "Enter the Weight in Kg: 20\n",
      "Enter the height in Meter: 40\n"
     ]
    },
    {
     "name": "stdout",
     "output_type": "stream",
     "text": [
      "BMI is: 20.0\n"
     ]
    }
   ],
   "source": [
    "    #program 5\n",
    "weight=float(input(\"Enter the Weight in Kg:\"))\n",
    "height=float(input(\"Enter the height in Meter:\"))\n",
    "BMI=weight/height*height\n",
    "print(\"BMI is:\",BMI)"
   ]
  },
  {
   "cell_type": "markdown",
   "id": "cc87643c-df06-4c28-9f9b-bfed60c4083b",
   "metadata": {},
   "source": [
    "### F=ma"
   ]
  },
  {
   "cell_type": "code",
   "execution_count": 7,
   "id": "b4734b7b-d7af-4dd3-8236-0614d057e343",
   "metadata": {},
   "outputs": [
    {
     "name": "stdin",
     "output_type": "stream",
     "text": [
      "Enter Mass on Kilo Gram: 20\n",
      "Enter Acceleration in m/s: 40\n"
     ]
    },
    {
     "name": "stdout",
     "output_type": "stream",
     "text": [
      "The Force is = 800.0\n"
     ]
    }
   ],
   "source": [
    "    #program 6\n",
    "mass=float(input(\"Enter Mass on Kilo Gram:\"))\n",
    "acc=float(input(\"Enter Acceleration in m/s:\"))\n",
    "F=mass*acc\n",
    "print(\"The Force is =\",F)"
   ]
  },
  {
   "cell_type": "markdown",
   "id": "acffd5cc-5716-4ab4-a4bc-5dc51484baee",
   "metadata": {},
   "source": [
    "### Compound Interest"
   ]
  },
  {
   "cell_type": "code",
   "execution_count": 2,
   "id": "e31a2995-d9bf-4ebf-a5d1-b441e21969bb",
   "metadata": {},
   "outputs": [
    {
     "name": "stdin",
     "output_type": "stream",
     "text": [
      "Enter the Principle Amount: 12\n",
      "Enter the Annual Interest Rate: 12\n",
      "Enter the Number of Times Interest is Compounded Per Year: 21\n",
      "Enter Time In Year: 21\n"
     ]
    },
    {
     "name": "stdout",
     "output_type": "stream",
     "text": [
      "Compound Interest is= 158968.62832147404\n"
     ]
    }
   ],
   "source": [
    "    #program 7\n",
    "pa=int(input(\"Enter the Principle Amount:\"))\n",
    "r=float(input(\"Enter the Annual Interest Rate:\"))\n",
    "n=int(input(\"Enter the Number of Times Interest is Compounded Per Year:\"))\n",
    "t=int(input(\"Enter Time In Year:\"))\n",
    "A=pa*(1+r/n)**n-t\n",
    "print(\"Compound Interest is=\",A)"
   ]
  },
  {
   "cell_type": "markdown",
   "id": "91123587-50c7-4368-bcd3-042dc1d8f21e",
   "metadata": {},
   "source": [
    "### 𝑷𝒆𝒓𝒊𝒎𝒆𝒕𝒆r"
   ]
  },
  {
   "cell_type": "code",
   "execution_count": 9,
   "id": "4b7e5f35-b63a-43a6-8242-295fb2a11b6c",
   "metadata": {},
   "outputs": [
    {
     "name": "stdin",
     "output_type": "stream",
     "text": [
      "Enter the length of side a: 2.5\n",
      "Enter the length of side b: 3.6\n",
      "Enter the length of side c: 4.12\n"
     ]
    },
    {
     "name": "stdout",
     "output_type": "stream",
     "text": [
      "The Perimeter of Triangle is= 10.219999999999999\n"
     ]
    }
   ],
   "source": [
    "    #program 8\n",
    "a=float(input(\"Enter the length of side a:\"))\n",
    "b=float(input(\"Enter the length of side b:\"))\n",
    "c=float(input(\"Enter the length of side c:\"))\n",
    "P=a+b+c\n",
    "print(\"The Perimeter of Triangle is=\",P)"
   ]
  },
  {
   "cell_type": "markdown",
   "id": "28fe1bad-c527-48f0-8f4e-4c57123684bf",
   "metadata": {},
   "source": [
    "### Volume of Sphere"
   ]
  },
  {
   "cell_type": "code",
   "execution_count": 14,
   "id": "8a16788e-ad55-4e64-b110-52c0b8cddc31",
   "metadata": {},
   "outputs": [
    {
     "name": "stdin",
     "output_type": "stream",
     "text": [
      "Enter the Radius: 2\n"
     ]
    },
    {
     "name": "stdout",
     "output_type": "stream",
     "text": [
      "Volume is= 33.49332496\n"
     ]
    }
   ],
   "source": [
    " #program 9\n",
    "r=int(input(\"Enter the Radius:\"))\n",
    "x=1.333333\n",
    "pie=3.14\n",
    "V=x*pie*r*r*r\n",
    "print(\"Volume is=\",V)"
   ]
  },
  {
   "cell_type": "markdown",
   "id": "7873bcdb-a9ea-47b5-9fe3-9fd83c289e84",
   "metadata": {},
   "source": [
    "### Kienatic Energy"
   ]
  },
  {
   "cell_type": "code",
   "execution_count": 1,
   "id": "c40fd8d6-d523-4ba0-994c-4637a724789e",
   "metadata": {},
   "outputs": [
    {
     "name": "stdin",
     "output_type": "stream",
     "text": [
      "Enter the Mass in Kg: 20\n",
      "Enter the Velocity in Meter-sec: 3.45\n"
     ]
    },
    {
     "name": "stdout",
     "output_type": "stream",
     "text": [
      "Kienaric Energy is= 119.02500000000002\n"
     ]
    }
   ],
   "source": [
    "    #program 10\n",
    "m=float(input(\"Enter the Mass in Kg:\"))\n",
    "v=float(input(\"Enter the Velocity in Meter-sec:\"))\n",
    "KE=1/2*m*v**2\n",
    "print(\"Kienaric Energy is=\",KE)"
   ]
  },
  {
   "cell_type": "markdown",
   "id": "3ba22765-8cc2-425c-850a-0f067238b536",
   "metadata": {},
   "source": [
    "# Quadric Formula"
   ]
  },
  {
   "cell_type": "code",
   "execution_count": 9,
   "id": "c23862ef-335a-4464-b027-5c982ec8e177",
   "metadata": {},
   "outputs": [
    {
     "name": "stdin",
     "output_type": "stream",
     "text": [
      "Enter the value of a: 234\n",
      "Enter the value of b: 23\n",
      "Enter the value of c: 23\n"
     ]
    },
    {
     "name": "stdout",
     "output_type": "stream",
     "text": [
      "The solutionm is: (-9371.010313994262+36408.09637823981j)\n"
     ]
    }
   ],
   "source": [
    "    #program 11\n",
    "a=float(input(\"Enter the value of a:\"))\n",
    "b=float(input(\"Enter the value of b:\"))\n",
    "c=float(input(\"Enter the value of c:\"))\n",
    "x = -b+(b*b-4*a*c)**0.58/2*a\n",
    "print(\"The solutionm is:\",x)"
   ]
  },
  {
   "cell_type": "markdown",
   "id": "0c3aa7ed-f2ee-4a1a-8ce5-a1563ea352c8",
   "metadata": {},
   "source": [
    "## Temperature Conversion\n",
    "    f=9/5c+32\n",
    "    Take C (temperature in Celsius) as input from the user."
   ]
  },
  {
   "cell_type": "code",
   "execution_count": 11,
   "id": "452e0981-ef4c-41e6-8ba1-1fc0dcf7500f",
   "metadata": {},
   "outputs": [
    {
     "name": "stdin",
     "output_type": "stream",
     "text": [
      "Enter the Temperature in Celsius: 28\n"
     ]
    },
    {
     "name": "stdout",
     "output_type": "stream",
     "text": [
      "The temperature is: 82.4\n"
     ]
    }
   ],
   "source": [
    "    #program 12\n",
    "c=float(input(\"Enter the Temperature in Celsius:\"))\n",
    "f=9/5*c+32\n",
    "print(\"The temperature is:\",f)"
   ]
  },
  {
   "cell_type": "markdown",
   "id": "4199a90e-5a31-4ae6-bcc2-c7f589ea7730",
   "metadata": {},
   "source": [
    "## Gravitional Force\n",
    "Write a Python program to calculate the gravitational force between two objects. Use \n",
    "the formula \n",
    "𝑭 = 𝑮\n",
    "𝒎𝟏 ∗ 𝒎𝟐\n",
    "𝒓\n",
    "𝟐\n",
    "m1, m2 are the masses of the objects \n",
    "r = distance between the centers of the objects \n",
    "Take m1, m2 and r as inputs from the user."
   ]
  },
  {
   "cell_type": "code",
   "execution_count": 13,
   "id": "66488cdb-f757-416b-907a-6cb2ed74de48",
   "metadata": {},
   "outputs": [
    {
     "name": "stdin",
     "output_type": "stream",
     "text": [
      "Enter the mass of first object: 45\n",
      "Enter the mass of second object: 678\n",
      "Enter the distance between the centers of the objects: 6\n"
     ]
    },
    {
     "name": "stdout",
     "output_type": "stream",
     "text": [
      "The Gravitional Force is = 8305.5\n"
     ]
    }
   ],
   "source": [
    "    #program 13\n",
    "m1=float(input(\"Enter the mass of first object:\"))\n",
    "m2=float(input(\"Enter the mass of second object:\"))\n",
    "r=float(input(\"Enter the distance between the centers of the objects:\"))\n",
    "G=9.8\n",
    "F=G*(m1*m2/r**2)\n",
    "print(\"The Gravitional Force is =\",F)"
   ]
  },
  {
   "cell_type": "markdown",
   "id": "8cf2e29c-25bf-4c17-803b-b1ef9645b108",
   "metadata": {},
   "source": [
    "## Volume of a Cylinder:\n",
    "Write a Python program to calculate the volume of a cylinder. Use the formula: \n",
    "𝑽𝒐𝒍𝒖𝒎𝒆 = 𝝅𝒓𝟐𝒉\n",
    "Take radius(r) and height(h) as inputs from the user"
   ]
  },
  {
   "cell_type": "code",
   "execution_count": 14,
   "id": "773a62fc-3dcb-4e78-81c1-d7e412a31b15",
   "metadata": {},
   "outputs": [
    {
     "name": "stdin",
     "output_type": "stream",
     "text": [
      "Enter the Radius: 34\n",
      "Ente rthe Height: 54\n"
     ]
    },
    {
     "name": "stdout",
     "output_type": "stream",
     "text": [
      "The Volume is = 3.45\n"
     ]
    }
   ],
   "source": [
    "    #program 14\n",
    "r=float(input(\"Enter the Radius:\"))\n",
    "h=float(input(\"Ente rthe Height:\"))\n",
    "pie=3.14\n",
    "V=pie*r**2*h\n",
    "print(\"The Volume is =\",v)"
   ]
  },
  {
   "cell_type": "markdown",
   "id": "1a0c69c1-970a-4119-9229-1648d1dfe9f1",
   "metadata": {},
   "source": [
    "#  Pressure:\n",
    "Write a Python program to calculate the pressure exerted by a force on a surface. Use \n",
    "the formula: \n",
    "𝑭\n",
    "𝑷 = 𝑨\n",
    "P = pressure \n",
    "F = force \n",
    "A = area \n",
    "Take F(force) and A(area) as inputs from the user."
   ]
  },
  {
   "cell_type": "code",
   "execution_count": 15,
   "id": "ac391993-5342-4391-ba47-41cc0746a069",
   "metadata": {},
   "outputs": [
    {
     "name": "stdin",
     "output_type": "stream",
     "text": [
      "Enter the Force: 34\n",
      "Enter the Area: 65.45\n"
     ]
    },
    {
     "name": "stdout",
     "output_type": "stream",
     "text": [
      "Pressure is = 0.5194805194805194\n"
     ]
    }
   ],
   "source": [
    "    #program 15\n",
    "f=float(input(\"Enter the Force:\"))\n",
    "a=float(input(\"Enter the Area:\"))\n",
    "P=f/a\n",
    "print(\"Pressure is =\",P)"
   ]
  },
  {
   "cell_type": "markdown",
   "id": "746024a4-eb3e-42ac-aec6-182e8cb9b594",
   "metadata": {},
   "source": [
    "## Electric Power:\n",
    "Write a Python program to calculate the electric power consumed. Use the formula: \n",
    "where: \n",
    "P = power \n",
    "V = voltage \n",
    "I = current \n",
    "Take V(voltage) and I(current) as inputs from the user."
   ]
  },
  {
   "cell_type": "code",
   "execution_count": 17,
   "id": "dcd3437b-696a-4c6b-a937-0b90fb876fee",
   "metadata": {},
   "outputs": [
    {
     "name": "stdin",
     "output_type": "stream",
     "text": [
      "Enter the Voltage: 45.87\n",
      "Enter the Current: 689.786\n"
     ]
    },
    {
     "name": "stdout",
     "output_type": "stream",
     "text": [
      "The Power is = 0.06649888516148487\n"
     ]
    }
   ],
   "source": [
    "    #program 16\n",
    "v=float(input(\"Enter the Voltage:\"))\n",
    "i=float(input(\"Enter the Current:\"))\n",
    "p=v/i\n",
    "print(\"The Power is =\",p)"
   ]
  },
  {
   "cell_type": "markdown",
   "id": "aae36ff1-b73d-4214-b63d-1befb866fcda",
   "metadata": {},
   "source": [
    "## Perimeter of a Circle (Circumference): \n",
    "Write a Python program to calculate the perimeter (circumference) of a circle. Use the \n",
    "formula: \n",
    "Take r (radius) as input from the user."
   ]
  },
  {
   "cell_type": "code",
   "execution_count": 1,
   "id": "496b9b42-bb31-470b-aacd-7b8c8e74865a",
   "metadata": {},
   "outputs": [
    {
     "name": "stdin",
     "output_type": "stream",
     "text": [
      "Enter the Radius: 34.56\n"
     ]
    },
    {
     "name": "stdout",
     "output_type": "stream",
     "text": [
      "The Power is= 217.03680000000003\n"
     ]
    }
   ],
   "source": [
    "    #Program 17\n",
    "pie=3.14\n",
    "r=float(input(\"Enter the Radius:\"))\n",
    "P=2*pie*r\n",
    "print(\"The Power is=\",P)"
   ]
  },
  {
   "cell_type": "markdown",
   "id": "c2ca2eed-c29a-4edb-ba52-4f1425396a91",
   "metadata": {},
   "source": [
    "## Future Value in Savings:\n",
    "Write a Python program to calculate the future value of an investment. Use the formula: \n",
    "𝐹𝑉 = 𝑃𝑉(1 + 𝑟)\n",
    "௧\n",
    "where: \n",
    "o FV= future value \n",
    "o PV= present value \n",
    "o r= annual interest rate (as a decimal) \n",
    "o t= time in years \n",
    "Take PV, r, and t as inputs from the user."
   ]
  },
  {
   "cell_type": "code",
   "execution_count": 3,
   "id": "39575ecb-7ef8-4be5-8a4b-f8967b01bc21",
   "metadata": {},
   "outputs": [
    {
     "name": "stdin",
     "output_type": "stream",
     "text": [
      "Enter the Present Value: 434.34\n",
      "Enter the Annual Intres : 2334.23\n",
      "Enter Time in Years: 34.32\n"
     ]
    },
    {
     "name": "stdout",
     "output_type": "stream",
     "text": [
      "The future value of an investment is= 1.733419994389212e+118\n"
     ]
    }
   ],
   "source": [
    "    #program 18\n",
    "pv=float(input(\"Enter the Present Value:\"))\n",
    "r=float(input(\"Enter the Annual Intres :\"))\n",
    "t=float(input(\"Enter Time in Years:\"))\n",
    "FV=pv*(1+r)**t\n",
    "print(\"The future value of an investment is=\",FV)"
   ]
  },
  {
   "cell_type": "markdown",
   "id": "d6a778d3-8a55-43ac-be22-8ff09f350655",
   "metadata": {},
   "source": [
    "## Work Done by a Force:\n",
    "Write a Python program to calculate the work done by a force. Use the formula: \n",
    "where: \n",
    "W = work done \n",
    "f= force \n",
    "d = distance \n",
    "theta = angle between force and direction of movement (in degrees) \n",
    "Take f, d, and θ as inputs from the user"
   ]
  },
  {
   "cell_type": "code",
   "execution_count": 3,
   "id": "2e888f0b-d265-4fac-9506-b42807d0d5e9",
   "metadata": {},
   "outputs": [
    {
     "name": "stdin",
     "output_type": "stream",
     "text": [
      "Enter the value of force: 23.32\n",
      "Enter the value Distance Theta: 32.3\n",
      "Enter the of θ: 45.43\n"
     ]
    },
    {
     "name": "stdout",
     "output_type": "stream",
     "text": [
      "The workdone is = 17109.75574\n"
     ]
    }
   ],
   "source": [
    "    #Program 19\n",
    "f=float(input(\"Enter the value of force:\"))\n",
    "d=float(input(\"Enter the value Distance Theta:\"))\n",
    "θ=float(input(\"Enter the of θ:\"))\n",
    "w=f*d*1/2*θ\n",
    "print(\"The workdone is =\",w)"
   ]
  },
  {
   "cell_type": "markdown",
   "id": "c45983b5-4364-4dc7-b051-80975cee2017",
   "metadata": {},
   "source": [
    "## Heat Transfer:\n",
    "Write a Python program to calculate the amount of heat transferred. Use the formula: \n",
    "𝑄 = 𝑚𝑐 (∆T)\n",
    "where: \n",
    "Q= heat transfer \n",
    "m = mass \n",
    "c = specific heat capacity \n",
    "ΔT \n",
    "Take m, c, T as inputs from the user."
   ]
  },
  {
   "cell_type": "code",
   "execution_count": 4,
   "id": "57f15412-147f-4ce3-a639-1c9a1985bbf8",
   "metadata": {},
   "outputs": [
    {
     "name": "stdin",
     "output_type": "stream",
     "text": [
      "Enter the value of Mass: 122\n",
      "Enter the value of Specific Heat: 23\n",
      "Enter the value: 32\n"
     ]
    },
    {
     "name": "stdout",
     "output_type": "stream",
     "text": [
      "The value of heat transfer is = 89792.0\n"
     ]
    }
   ],
   "source": [
    "    #program 20\n",
    "m=float(input(\"Enter the value of Mass:\"))\n",
    "c=float(input(\"Enter the value of Specific Heat:\"))\n",
    "ΔT=float(input(\"Enter the value:\"))\n",
    "Q=m*c*ΔT\n",
    "print(\"The value of heat transfer is =\",Q)\n"
   ]
  },
  {
   "cell_type": "code",
   "execution_count": null,
   "id": "53b3acfb-3d69-42cd-b9ed-beb12f66a05f",
   "metadata": {},
   "outputs": [],
   "source": []
  }
 ],
 "metadata": {
  "kernelspec": {
   "display_name": "Python 3 (ipykernel)",
   "language": "python",
   "name": "python3"
  },
  "language_info": {
   "codemirror_mode": {
    "name": "ipython",
    "version": 3
   },
   "file_extension": ".py",
   "mimetype": "text/x-python",
   "name": "python",
   "nbconvert_exporter": "python",
   "pygments_lexer": "ipython3",
   "version": "3.12.7"
  }
 },
 "nbformat": 4,
 "nbformat_minor": 5
}
